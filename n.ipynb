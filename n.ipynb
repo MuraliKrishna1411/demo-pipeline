{
 "cells": [
  {
   "cell_type": "code",
   "execution_count": 5,
   "metadata": {},
   "outputs": [],
   "source": [
    "# Step 1  to create virtual env\n",
    "# From terminal -- new terminal -- command prompt -- use conda activate base\n",
    "# if conda is not recognised --- then we use view --- command pallet --- python: Select Interpreter --- select base\n",
    "# now we can create new env use  -- ## conda create -p venv python=3.8 -y ##\n",
    "# This will create virtual env in current folder\n",
    "# if we want to create virtual env in standard then use -n instead of -p\n",
    "# then use this command conda activate and folder location to activate new vir env  ## conda activate I:\\Projects\\demo-pipeline\\venv##\n",
    "#"
   ]
  },
  {
   "cell_type": "code",
   "execution_count": null,
   "metadata": {},
   "outputs": [],
   "source": [
    "# 1) Data Ingestion\n",
    "# 2) Eda \n",
    "# 3) Preprocessing ( Feature engineering)\n",
    "# 4) model (ML algo)\n",
    "# 5) evaluation\n",
    "\n",
    "# above is core ml pipeline"
   ]
  },
  {
   "cell_type": "code",
   "execution_count": 1,
   "metadata": {},
   "outputs": [],
   "source": [
    "# CI - Continous integration -- local to github\n",
    "# CD - continous deployment -- github to aws or azure or gcp"
   ]
  },
  {
   "cell_type": "code",
   "execution_count": 3,
   "metadata": {},
   "outputs": [],
   "source": [
    "# pypi packages\n",
    "\n",
    "\n",
    "# module packaging -- ( dataeng, preprocessing,ml)-- these can be created as package and save init in pypi or conda so that everyone can use\n",
    "# Docker -  container|image|docker compose   -- using docker we can use\n"
   ]
  },
  {
   "cell_type": "code",
   "execution_count": null,
   "metadata": {},
   "outputs": [],
   "source": [
    "# pip list --- this will show all the packages in current env"
   ]
  },
  {
   "cell_type": "code",
   "execution_count": null,
   "metadata": {},
   "outputs": [],
   "source": []
  }
 ],
 "metadata": {
  "kernelspec": {
   "display_name": "Python 3",
   "language": "python",
   "name": "python3"
  },
  "language_info": {
   "codemirror_mode": {
    "name": "ipython",
    "version": 3
   },
   "file_extension": ".py",
   "mimetype": "text/x-python",
   "name": "python",
   "nbconvert_exporter": "python",
   "pygments_lexer": "ipython3",
   "version": "3.8.16"
  },
  "orig_nbformat": 4
 },
 "nbformat": 4,
 "nbformat_minor": 2
}
